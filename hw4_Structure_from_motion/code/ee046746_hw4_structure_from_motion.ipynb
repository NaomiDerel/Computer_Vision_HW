{
 "cells": [
  {
   "cell_type": "markdown",
   "metadata": {},
   "source": [
    "# <img src=\"https://img.icons8.com/bubbles/100/000000/3d-glasses.png\" style=\"height:50px;display:inline\"> EE 046746 - Technion - Computer Vision\n",
    "\n",
    "\n",
    "## Homework 4 - Structure From Motion\n",
    "---\n",
    "\n",
    "### <a style='color:red'> Due Date: 28.01.2025 </a>"
   ]
  },
  {
   "cell_type": "markdown",
   "metadata": {},
   "source": [
    "### <img src=\"https://img.icons8.com/bubbles/50/000000/upload-to-cloud.png\" style=\"height:50px;display:inline\"> Submission Guidelines\n",
    "---\n",
    "#### READ THIS CAREFULLY\n",
    "* Submission only in **pairs**.\n",
    "* **No handwritten submissions**.\n",
    "* You can choose your working environment:\n",
    "    * You can work in a `Jupyter Notebook`, locally with <a href=\"https://www.anaconda.com/distribution/\">Anaconda</a> or online on <a href=\"https://colab.research.google.com/\">Google Colab</a>\n",
    "  * **Important**: Colab also supports running code on GPU, so if you don't have one, Colab is the way to go. To enable GPU on Colab, in the menu: `Runtime` $\\rightarrow$  `Change Runtime Type` $\\rightarrow$`GPU`.\n",
    "    * You can work in a Python IDE such as <a href=\"https://www.jetbrains.com/pycharm/\">PyCharm</a> or <a href=\"https://code.visualstudio.com/\">Visual Studio Code</a>.\n",
    "        * Both also allow opening/editing Jupyter Notebooks.\n",
    "\n",
    "* Make sure you submit your exercise according to the requirements in the <a href=\"https://moodle.technion.ac.il/pluginfile.php/1823033/mod_resource/content/2/Homework%20guidelines.pdf\">\"Homework submission guidelines\"</a> file that appears in the course website (Moodle). \n",
    "            * **The code should run both on CPU and GPU without manual modifications**, require no special preparation and run on every computer.\n",
    "* Be precise, we expect on point answers.\n",
    "* Submission on the course website (Moodle).\n",
    "* Bonus is equal to 10 points. You can earn up to 105 points on this assignment"
   ]
  },
  {
   "cell_type": "markdown",
   "metadata": {},
   "source": [
    "### <img src=\"https://img.icons8.com/dusk/64/000000/python.png\" style=\"height:50px;display:inline\"> Python Libraries\n",
    "---\n",
    "\n",
    "* `numpy`\n",
    "* `matplotlib`\n",
    "* `opencv` (or `scikit-image`)\n",
    "* `scikit-learn`\n",
    "* `scipy`\n",
    "* Anything else you need (`os`, `pandas`, `csv`, `json`,...)"
   ]
  },
  {
   "cell_type": "code",
   "execution_count": 2,
   "metadata": {},
   "outputs": [
    {
     "name": "stdout",
     "output_type": "stream",
     "text": [
      "Requirement already satisfied: PyQt5 in /Users/naomi/miniconda3/envs/deep_learn/lib/python3.8/site-packages (5.15.11)\n",
      "Requirement already satisfied: PyQt5-sip<13,>=12.15 in /Users/naomi/miniconda3/envs/deep_learn/lib/python3.8/site-packages (from PyQt5) (12.15.0)\n",
      "Requirement already satisfied: PyQt5-Qt5<5.16.0,>=5.15.2 in /Users/naomi/miniconda3/envs/deep_learn/lib/python3.8/site-packages (from PyQt5) (5.15.16)\n"
     ]
    }
   ],
   "source": [
    "!pip install PyQt5\n",
    "\n",
    "# for visualization windows to pop out in jupyter (kernel may require restart after using GUIs)\n",
    "%matplotlib qt"
   ]
  },
  {
   "cell_type": "code",
   "execution_count": 3,
   "metadata": {},
   "outputs": [],
   "source": [
    "import cv2 as cv\n",
    "import numpy as np\n",
    "import scipy.optimize\n",
    "import numpy.linalg as la\n",
    "import matplotlib.pyplot as plt\n",
    "import os\n",
    "from tqdm import tqdm"
   ]
  },
  {
   "cell_type": "code",
   "execution_count": 4,
   "metadata": {},
   "outputs": [],
   "source": [
    "### general device and path for universal use\n",
    "if os.getcwd().split('/')[-1] == 'code':\n",
    "    data_path = '../data/'\n",
    "else:\n",
    "    data_path = 'data/'"
   ]
  },
  {
   "cell_type": "markdown",
   "metadata": {},
   "source": [
    "### <img src=\"https://img.icons8.com/bubbles/50/000000/checklist.png\" style=\"height:50px;display:inline\"> Tasks\n",
    "---\n",
    "* In all tasks, you should document your process and results in a report file (which will be saved as `.pdf`). \n",
    "* You can reference your code in the report file, but no need for actual code in this file, the code is submitted in a seprate folder as explained above."
   ]
  },
  {
   "cell_type": "markdown",
   "metadata": {},
   "source": [
    "### <img src=\"https://img.icons8.com/external-itim2101-lineal-color-itim2101/64/000000/external-robot-engineering-itim2101-lineal-color-itim2101.png\" style=\"height:50px;display:inline\"> Introduction \n",
    "---\n",
    "One of the major areas of computer vision is 3D reconstruction. Given several 2D images of an environment, can we recover the 3D structure of the environment, as well as the position of the camera/robot? This has many uses in robotics and autonomous systems, as understanding the 3D structure of the environment is crucial to navigation. You don't want your robot constantly bumping into walls, or running over human beings!\n",
    "\n",
    "<center> <img src=\"https://research.qut.edu.au/qcr/wp-content/uploads/sites/305/2021/02/Challenge_summary_pic-768x513.jpg\" style=\"height:300px\">\n",
    "<center> Image Source - <a href=\"https://research.qut.edu.au/qcr/2021/02/17/2nd-robotic-vision-scene-understanding-challenge-launched-cvpr2021-embodied-ai-workshop/\"> CVPR 21 Embodied AI Workshop </a>"
   ]
  },
  {
   "cell_type": "markdown",
   "metadata": {},
   "source": [
    "In Part 1, you will be writing a set of functions to generate a sparse point cloud for some test images we have provided to you. The test images are 2 renderings of a temple from two different angles. We have also provided you with a `npz` file containing good point correspondences between the two images. You will first write a function that computes the fundamental matrix between the two images. Then write a function that uses the epipolar constraint to find more point matches between the two images. Finally, you will write a function that will triangulate the 3D points for each pair of 2D point correspondences.\n",
    "\n",
    "In Part 2, you will be writing a set of functions to calibrate a camera and project a 3D CAD model to a 2D image after estimating the camera pose. We have provided you with a `npz` file containing corresponding 2D-3D pairs. You will first write a function that estimates a camera matrix given 2D-3D calibration points. Then write a function to decompose the estimated camera matrix to intrinsic/extrinsic parameters. Finally, you will write a script to project the provided 3D CAD model and compare it to a given 2D image of an airplane."
   ]
  },
  {
   "cell_type": "markdown",
   "metadata": {},
   "source": [
    "### <img src=\"https://img.icons8.com/pastel-glyph/64/000000/pain-points.png\" style=\"height:50px;display:inline\"> Part 1 - Sparse Reconstruction - mandatory\n",
    "---\n",
    "In this section, you will be writing a set of function to compute the sparse reconstruction from two sample images of a temple. You will first estimate the Fundamental matrix, compute point correspondences, then plot the results in 3D.\n",
    "It may be helpful to read through Section 1.5 right now. In Section 1.5 we ask you to write a testing script that will run your whole pipeline. It will be easier to start that now and add to it as you complete each of the questions one after the other."
   ]
  },
  {
   "cell_type": "markdown",
   "metadata": {},
   "source": [
    "#### 1.1 - Eight Point Algorithm\n",
    "---\n",
    "In this question, you're going to use the eight point algorithm which is covered in class to estimate the fundamental matrix. Please use the point correspondences provided in `data/some_corresp.npz`; you can load and view the contents of a `.npz` file as follows:\n",
    "> ``data = np.load(\"../data/some_corresp.npz\")``\n",
    "<br> `` print(data.files)`` </br>\n",
    "\n",
    "* Write the following function:"
   ]
  },
  {
   "cell_type": "markdown",
   "metadata": {},
   "source": [
    "where `pts1` and `pts2` are $N \\times 2$ matrices corresponding to the $(x,y)$ coordinates of the $N$ points in the first and second image respectively, and `pmax` is a scale parameter. Implementation tips:\n",
    "* Normalize points and un-normalize $F$: You should scale the data by dividing each coordinate by $p_{\\text{max}}$ (the maximum of the image's width and height) using a transformation matrix $T$. After computing $F$, you will have to \"unscale\" the fundamental matrix. If $p_{\\text{norm}} = Tp$, then $F_{\\text{unnorm}} = T^T F T$. Note that this scaling is slightly simpler than \"centering\" that you did in the lecture, but for the purpose of this assingment it should suffice.\n",
    "\n",
    "* You must enforce the rank 2 constraint on $F$ before unscaling. Recall that a valid fundamental matrix $F$ will have all epipolar lines intersect at a certain point, meaning that there exists a non-trivial null space for $F$. In general, with real points, the eight-point solution for $F$ will not come with this condition. To enforce the rank 2 constraint, decompose $F$ with SVD to get the three matrices $U,\\Sigma,V$ such that $F = U\\Sigma V^T$. Then force the matrix to be rank 2 by setting the smallest singular value in $\\Sigma$ to zero, giving you a new $\\Sigma'$. Now compute the proper fundamental matrix with $F' = U\\Sigma' V^T$.\n",
    "\n",
    "* You may find it helpful to refine the solution by using local minimization. This probably won't fix a completely broken solution, but may make a good solution better by locally minimizing a geometric cost function. For this we have provided a helper function `refineF` taking in $F$ and the two sets of points, which you can call from `eight_point` before unscaling $F$.\n",
    "\n",
    "* Remember that the x-coordinate of a point in the image is its column entry and y-coordinate is the row entry. Also note that eight-point is just a \"figurative\" name, it just means that you need at least 8 points; your algorithm should use an over-determined system ($N > 8$ points).\n",
    "\n",
    "* To visualize the correctness of your estimated $F$, use the provided function `displayEpipolarF`, which takes in $F$, and the two images. This GUI lets you select a point in one of the images and visualize the corresponding epipolar line in the other image (Figure 1).\n",
    "\n",
    "*  Please include in your report the recovered $F$ and the visualization of some epipolar lines (similar to Figure 1)."
   ]
  },
  {
   "cell_type": "markdown",
   "metadata": {},
   "source": [
    "* Helper functions:"
   ]
  },
  {
   "cell_type": "code",
   "execution_count": 5,
   "metadata": {},
   "outputs": [],
   "source": [
    "# helper function 1: singualrizes F using SVD\n",
    "def _singularize(F):\n",
    "    U, S, V = np.linalg.svd(F)\n",
    "    S[-1] = 0\n",
    "    F = U.dot(np.diag(S).dot(V))\n",
    "\n",
    "    return F\n",
    "\n",
    "# helper function 2.1: defines an objective function using F and the epipolar constraint\n",
    "def _objective_F(f, pts1, pts2):\n",
    "    F = _singularize(f.reshape([3, 3]))\n",
    "    num_points = pts1.shape[0]\n",
    "    hpts1 = np.concatenate([pts1, np.ones([num_points, 1])], axis=1)\n",
    "    hpts2 = np.concatenate([pts2, np.ones([num_points, 1])], axis=1)\n",
    "    Fp1 = F.dot(hpts1.T)\n",
    "    FTp2 = F.T.dot(hpts2.T)\n",
    "\n",
    "    r = 0\n",
    "    for fp1, fp2, hp2 in zip(Fp1.T, FTp2.T, hpts2):\n",
    "        r += (hp2.dot(fp1))**2 * (1/(fp1[0]**2 + fp1[1]**2) + 1/(fp2[0]**2 + fp2[1]**2))\n",
    "\n",
    "    return r\n",
    "\n",
    "# helper function 2.2: refines F using the objective from above and local optimization\n",
    "def refineF(F, pts1, pts2):\n",
    "    f = scipy.optimize.fmin_powell(\n",
    "        lambda x: _objective_F(x, pts1, pts2), F.reshape([-1]),\n",
    "        maxiter=100000,\n",
    "        maxfun=10000\n",
    "    )\n",
    "\n",
    "    return _singularize(f.reshape([3, 3]))"
   ]
  },
  {
   "cell_type": "markdown",
   "metadata": {},
   "source": [
    "* Visualization functions:"
   ]
  },
  {
   "cell_type": "code",
   "execution_count": 6,
   "metadata": {},
   "outputs": [],
   "source": [
    "# helper function 3.1: derives the epipoles using the essential matrix\n",
    "def _epipoles(E):\n",
    "    U, S, V = np.linalg.svd(E)\n",
    "    e1 = V[-1, :]\n",
    "    U, S, V = np.linalg.svd(E.T)\n",
    "    e2 = V[-1, :]\n",
    "\n",
    "    return e1, e2\n",
    "\n",
    "# helper function 3.2: GUI that uses F to draw the epipolar lines in I2 correponding to chosen pts in I1\n",
    "def displayEpipolarF(I1, I2, F):\n",
    "    e1, e2 = _epipoles(F)\n",
    "\n",
    "    sy, sx, _ = I2.shape\n",
    "\n",
    "    f, [ax1, ax2] = plt.subplots(1, 2, figsize=(12, 9))\n",
    "    ax1.imshow(I1)\n",
    "    ax1.set_title('Select a point in this image')\n",
    "    ax1.set_axis_off()\n",
    "    ax2.imshow(I2)\n",
    "    ax2.set_title('Verify that the corresponding point \\n is on the epipolar line in this image')\n",
    "    ax2.set_axis_off()\n",
    "\n",
    "    while True:\n",
    "        plt.sca(ax1)\n",
    "        x, y = plt.ginput(1, mouse_stop=2)[0]\n",
    "\n",
    "        xc, yc = int(x), int(y)\n",
    "        v = np.array([[xc], [yc], [1]])\n",
    "\n",
    "        l = F @ v\n",
    "        s = np.sqrt(l[0]**2+l[1]**2)\n",
    "\n",
    "        if s==0:\n",
    "            error('Zero line vector in displayEpipolar')\n",
    "\n",
    "        l = l / s\n",
    "        if l[1] != 0:\n",
    "            xs = 0\n",
    "            xe = sx - 1\n",
    "            ys = -(l[0] * xs + l[2]) / l[1]\n",
    "            ye = -(l[0] * xe + l[2]) / l[1]\n",
    "        else:\n",
    "            ys = 0\n",
    "            ye = sy - 1\n",
    "            xs = -(l[1] * ys + l[2]) / l[0]\n",
    "            xe = -(l[1] * ye + l[2]) / l[0]\n",
    "\n",
    "        ax1.plot(x, y, '*', MarkerSize=6, linewidth=2)\n",
    "        ax2.plot([xs, xe], [ys, ye], linewidth=2)\n",
    "        plt.draw()"
   ]
  },
  {
   "cell_type": "markdown",
   "metadata": {},
   "source": [
    "* Example result:\n",
    "\n",
    "<center> <img src = \"../assets/displayEpipolarF_example.jpg\" style=\"width:75%\">\n",
    "<center> Figure 1 - Epipolar lines visualization from \"displayEpipolarF\""
   ]
  },
  {
   "cell_type": "code",
   "execution_count": 7,
   "metadata": {},
   "outputs": [],
   "source": [
    "def eight_point(pts1, pts2, pmax):\n",
    "    \"\"\"\n",
    "    Eight Point Algorithm\n",
    "    [I] pts1, points in image 1 (Nx2 matrix)\n",
    "        pts2, points in image 2 (Nx2 matrix)\n",
    "        pmax, scalar value computed as max(H1,W1)\n",
    "    [O] F, the fundamental matrix (3x3 matrix)\n",
    "    \"\"\"\n",
    "    if pts1.shape[0] < 8:\n",
    "        raise ValueError('At least 8 points are needed to compute the fundamental matrix')\n",
    "    \n",
    "    # normalize the points\n",
    "    pts1 = pts1 / pmax\n",
    "    pts2 = pts2 / pmax\n",
    "\n",
    "    # construct A matrix\n",
    "    A = np.zeros((pts1.shape[0], 9))\n",
    "    for i in range(pts1.shape[0]):\n",
    "        u1, v1 = pts1[i]\n",
    "        u2, v2 = pts2[i]\n",
    "        A[i] = np.array([u1*u2, u1*v2, u1, v1*u2, v1*v2, v1, u2, v2, 1])\n",
    "\n",
    "    # solve for F\n",
    "    U, S, V = la.svd(A)\n",
    "    F = V[-1].reshape((3, 3))\n",
    "\n",
    "    # enforce rank 2 constraint\n",
    "    F = _singularize(F)\n",
    "\n",
    "    # refine F\n",
    "    # F = refineF(F, pts1, pts2)\n",
    "\n",
    "    # denormalize F\n",
    "    T = np.array([[1/pmax, 0, 0], \n",
    "                  [0, 1/pmax, 0], \n",
    "                  [0, 0, 1]])\n",
    "    F = T.T @ F @ T\n",
    "\n",
    "    return F"
   ]
  },
  {
   "cell_type": "code",
   "execution_count": 8,
   "metadata": {},
   "outputs": [
    {
     "name": "stdout",
     "output_type": "stream",
     "text": [
      "Fundermental matrix: \n",
      "[[ 3.56440672e-09 -1.30829066e-07  3.04775126e-05]\n",
      " [-5.92131870e-08 -1.31095126e-09 -1.08013400e-03]\n",
      " [-1.65029959e-05  1.12471525e-03 -4.16583180e-03]]\n"
     ]
    }
   ],
   "source": [
    "### Visualizing the epipolar lines - works only with the appropriate libaries installed\n",
    "\n",
    "im1 = cv.imread(data_path + 'im1.png')\n",
    "im2 = cv.imread(data_path + 'im2.png')\n",
    "data_points = np.load(\"../data/some_corresp.npz\")\n",
    "p1 = data_points['pts1']\n",
    "p2 = data_points['pts2']\n",
    "\n",
    "pmax = max(im1.shape[0], im1.shape[1])\n",
    "F = eight_point(p1, p2, pmax)\n",
    "print(f\"Fundermental matrix: \\n{F}\")\n",
    "\n",
    "# Show the epipolar lines\n",
    "# displayEpipolarF(im1, im2, F)"
   ]
  },
  {
   "cell_type": "markdown",
   "metadata": {},
   "source": [
    "#### 1.2 - Epipolar Correpondences\n",
    "---\n",
    "To reconstruct a 3D scene with a pair of two images, we need to find many point pairs. A point pair is two points (one in each image) that correspond to the same 3D scene point. With enough of these pairs, when we plot the resulting 3D points, we will have a rough outline of the 3D object. You found point pairs in HW1 using feature detectors and feature descriptors, and testing a point in one image with every single point in the other image. But here we can use the fundamental matrix to greatly simplify this search.\n",
    "\n",
    "<center> <img src = \"../assets/epipolar_theory.jpg\" style=\"width:50%\">\n",
    "<center> Figure 2 - Epipolar Geometry. Potential matches for $p$ lie on the epipolar line $l'$."
   ]
  },
  {
   "cell_type": "markdown",
   "metadata": {},
   "source": [
    "Recall from class that given a point $p$ in one image (the left view in Figure 2). Its corresponding 3D scene point $P$ could lie anywhere along the line from the camera center $C$ to the point $p$. This line, along with a second image's camera center $C'$ (the right view in Figure 2) forms a plane. This plane intersects with the image plane of the second camera, resulting in a line $l'$ in the second image which describes all the possible locations that $p$ may be found in the second image. Line $l'$ is the epipolar line, and we only need to search along this line to find a match for point $p$ found in the first image.\n",
    "\n",
    "* Write the following function:"
   ]
  },
  {
   "cell_type": "code",
   "execution_count": 16,
   "metadata": {},
   "outputs": [],
   "source": [
    "def point_in_img(Ix,Iy,p):\n",
    "    return (0 <= p[0] < Ix) and (0 <= p[1] < Iy)\n",
    "\n",
    "def epipolar_correspondences(I1, I2, F, pts1):\n",
    "    \"\"\"\n",
    "    Epipolar Correspondences\n",
    "    [I] I1, image 1 (H1xW1 matrix)\n",
    "        I2, image 2 (H2xW2 matrix)\n",
    "        F, fundamental matrix from image 1 to image 2 (3x3 matrix)\n",
    "        pts1, points in image 1 (Nx2 matrix)\n",
    "    [O] pts2, points in image 2 (Nx2 matrix)\n",
    "    \"\"\"\n",
    "    I1y, I1x, c1 = I1.shape\n",
    "    I2y, I2x, c2 = I2.shape\n",
    "    w = 2 # window size will be 2w+1\n",
    "\n",
    "    pts2 = []\n",
    "    for p1 in tqdm(pts1):\n",
    "        # Find epipolar line\n",
    "        x1, y1 = p1\n",
    "        v1 = np.array([x1, y1, 1])\n",
    "        l2 = F @ v1\n",
    "        a, b, c = l2\n",
    "\n",
    "        # Compute all possible p'\n",
    "        p2_possible = []\n",
    "        for x2 in range(I2x):\n",
    "            y2 = int(-1 * (a * x2 + c) / b)\n",
    "            if 0 <= y2 < I2y:\n",
    "                p2_possible.append((x2, y2))\n",
    "\n",
    "        # Find the best p' among possibles\n",
    "        best_p2 = None\n",
    "        best_dist = float('inf')\n",
    "        for p2 in p2_possible:\n",
    "            dist = 0\n",
    "            # compute error over a window of size 2w+1\n",
    "            for i in range(-w, w+1):\n",
    "                for j in range(-w, w+1):\n",
    "                    if point_in_img(I1x, I1y, (x1+i, y1+j)) and point_in_img(I2x, I2y, (p2[0]+i, p2[1]+j)):\n",
    "                        dist += np.linalg.norm(I1[y1+j, x1+i] - I2[p2[1]+j, p2[0]+i]) # euclidean distance\n",
    "            # update best p'\n",
    "            if dist < best_dist:\n",
    "                best_dist = dist\n",
    "                best_p2 = list(p2)\n",
    "\n",
    "        pts2.append(best_p2)\n",
    "\n",
    "    return pts2\n",
    "        "
   ]
  },
  {
   "cell_type": "markdown",
   "metadata": {},
   "source": [
    "where `I1` and `I2` are two-view images, `F` is the fundamental matrix computed for the two images using your `eight_point` function, `pts1` is a $N \\times 2$ matrix containing the $(x,y)$ points in the first image, and the function should return `pts2`, a $N \\times 2$ matrix, which contains the corresponding points in the second image. Implementation tips:\n",
    "\n",
    "* To match one point $p$ in image 1, use the fundamental matrix to estimate the corresponding epipolar line $l'$ and generate a set of candidate points in the second image.\n",
    "\n",
    "* For each candidate points $p'$, a similarity score between $p$ and $p'$ is computed. The point among candidates with highest score is treated as epipolar correspondence.\n",
    "\n",
    "* There are many ways to define the similarity between two points. Feel free to use whatever you want and **describe it in your write-up**. One possible solution is to select a small window of size $w$ around the point $p$. Then compare this target window to the window of the candidate point in the second image. For the images we gave you, simple Euclidean distance or Manhattan distance should suffice.\n",
    "\n",
    "* Remember to take care of data type and index range. You can use the provided function `epipolarMatchGUI` to visually test your function. Your function does not need to be perfect, but it should get most easy points correct, like corners, dots etc.\n",
    "\n",
    "* Please include a screenshot of `epipolarMatchGUI` running with your implementation of `epipolar_correspondences` (similar to Figure 3). Mention the similarity metric you decided to use. Also comment on any cases where your matching algorithm consistently fails, and why you might think this is."
   ]
  },
  {
   "cell_type": "markdown",
   "metadata": {},
   "source": [
    "* Visualization function:"
   ]
  },
  {
   "cell_type": "code",
   "execution_count": 10,
   "metadata": {},
   "outputs": [],
   "source": [
    "# helper function 4: GUI that uses F, and the matching function to draw the epipolar correpondences on the epipolar lines\n",
    "def epipolarMatchGUI(I1, I2, F):\n",
    "    e1, e2 = _epipoles(F)\n",
    "\n",
    "    sy, sx, sd = I2.shape\n",
    "\n",
    "    f, [ax1, ax2] = plt.subplots(1, 2, figsize=(12, 9))\n",
    "    ax1.imshow(I1)\n",
    "    ax1.set_title('Select a point in this image')\n",
    "    ax1.set_axis_off()\n",
    "    ax2.imshow(I2)\n",
    "    ax2.set_title('Verify that the corresponding point \\n is on the epipolar line in this image')\n",
    "    ax2.set_axis_off()\n",
    "\n",
    "    while True:\n",
    "        plt.sca(ax1)\n",
    "        x, y = plt.ginput(1, mouse_stop=2)[0]\n",
    "\n",
    "        xc, yc = int(x), int(y)\n",
    "        v = np.array([[xc], [yc], [1]])\n",
    "\n",
    "        l = F @ v\n",
    "        s = np.sqrt(l[0]**2+l[1]**2)\n",
    "\n",
    "        if s==0:\n",
    "            error('Zero line vector in displayEpipolar')\n",
    "\n",
    "        l = l / s\n",
    "        if l[0] != 0:\n",
    "            xs = 0\n",
    "            xe = sx - 1\n",
    "            ys = -(l[0] * xs + l[2]) / l[1]\n",
    "            ye = -(l[0] * xe + l[2]) / l[1]\n",
    "        else:\n",
    "            ys = 0\n",
    "            ye = sy - 1\n",
    "            xs = -(l[1] * ys + l[2]) / l[0]\n",
    "            xe = -(l[1] * ye + l[2]) / l[0]\n",
    "\n",
    "        ax1.plot(x, y, '*', MarkerSize=6, linewidth=2)\n",
    "        ax2.plot([xs, xe], [ys, ye], linewidth=2)\n",
    "\n",
    "        # draw points\n",
    "        pc = np.array([[xc, yc]])\n",
    "        p2 = epipolar_correspondences(I1, I2, F, pc)\n",
    "        ax2.plot(p2[0,0], p2[0,1], 'ro', MarkerSize=8, linewidth=2)\n",
    "        plt.draw()"
   ]
  },
  {
   "cell_type": "markdown",
   "metadata": {},
   "source": [
    "* Example result:\n",
    "\n",
    "<center> <img src = \"../assets/epipolarMatchGUI_example.jpg\" style=\"width:75%\">\n",
    "<center> Figure 3 - Epipolar Match visualization. A few errors are alright, but it should get most easy points correct (corners, dots, etc.)"
   ]
  },
  {
   "cell_type": "code",
   "execution_count": 15,
   "metadata": {},
   "outputs": [
    {
     "name": "stderr",
     "output_type": "stream",
     "text": [
      "100%|██████████| 288/288 [00:28<00:00, 10.22it/s]"
     ]
    },
    {
     "name": "stdout",
     "output_type": "stream",
     "text": [
      "[[0, 49], [164, 58], [186, 61], [145, 63], [146, 64], [479, 81], [275, 94], [479, 112], [133, 118], [124, 134], [201, 147], [233, 158], [156, 170], [139, 183], [217, 192], [218, 206], [290, 218], [175, 227], [175, 239], [257, 248], [260, 260], [343, 276], [337, 289], [210, 302], [278, 315], [260, 329], [259, 340], [201, 355], [334, 368], [260, 385], [152, 400], [270, 410], [177, 423], [234, 423], [300, 425], [355, 430], [158, 446], [270, 443], [257, 454], [152, 466], [341, 466], [239, 480], [312, 480], [479, 485], [479, 488], [479, 491], [142, 506], [479, 496], [281, 503], [157, 511], [253, 511], [168, 516], [175, 518], [479, 510], [479, 511], [479, 513], [0, 527], [211, 517], [0, 522], [0, 515], [292, 502], [0, 507], [359, 492], [390, 484], [0, 494], [0, 489], [0, 485], [0, 483], [0, 479], [0, 476], [409, 461], [0, 460], [407, 438], [479, 429], [393, 428], [410, 419], [423, 410], [479, 406], [0, 408], [0, 403], [0, 402], [0, 391], [0, 375], [0, 363], [0, 350], [0, 337], [0, 324], [0, 312], [377, 296], [376, 285], [0, 272], [0, 261], [0, 253], [0, 246], [0, 233], [0, 226], [0, 219], [0, 212], [0, 211], [0, 209], [0, 198], [0, 186], [0, 178], [339, 180], [0, 175], [0, 166], [0, 156], [0, 147], [0, 139], [0, 131], [0, 121], [0, 113], [316, 111], [0, 99], [0, 92], [0, 87], [293, 88], [0, 78], [279, 80], [479, 85], [267, 79], [0, 73], [227, 74], [213, 70], [0, 60], [191, 60], [0, 52], [269, 83], [131, 88], [479, 100], [479, 108], [318, 113], [290, 117], [160, 126], [185, 127], [479, 128], [245, 124], [0, 122], [254, 125], [240, 126], [251, 124], [479, 129], [479, 129], [180, 134], [168, 147], [190, 161], [191, 174], [193, 186], [170, 198], [196, 211], [196, 222], [194, 232], [252, 231], [202, 230], [144, 229], [221, 227], [0, 229], [378, 229], [198, 228], [204, 230], [202, 230], [215, 227], [224, 226], [332, 224], [339, 223], [348, 221], [386, 222], [386, 220], [479, 221], [479, 219], [344, 217], [287, 425], [264, 428], [296, 428], [142, 435], [143, 436], [183, 439], [197, 442], [208, 440], [312, 436], [278, 433], [287, 429], [341, 425], [344, 422], [175, 420], [318, 414], [357, 411], [351, 405], [362, 401], [221, 451], [136, 461], [197, 469], [207, 480], [192, 493], [232, 503], [188, 514], [0, 239], [0, 246], [0, 257], [0, 277], [0, 286], [0, 297], [0, 309], [0, 323], [0, 336], [0, 351], [0, 363], [0, 377], [0, 389], [138, 400], [0, 412], [345, 419], [139, 242], [257, 246], [339, 255], [259, 267], [350, 283], [342, 298], [261, 308], [292, 322], [362, 339], [362, 353], [370, 366], [335, 381], [283, 392], [260, 406], [282, 419], [139, 431], [0, 229], [0, 240], [297, 251], [0, 263], [0, 279], [0, 290], [0, 300], [0, 318], [0, 330], [0, 345], [374, 355], [0, 376], [0, 387], [61, 404], [372, 409], [215, 430], [298, 233], [345, 240], [479, 255], [278, 267], [357, 281], [358, 293], [287, 306], [357, 322], [280, 335], [341, 348], [340, 365], [357, 383], [350, 396], [284, 413], [141, 429], [479, 228], [0, 233], [0, 239], [0, 250], [0, 265], [0, 277], [0, 295], [0, 313], [373, 321], [0, 343], [0, 359], [0, 373], [0, 388], [0, 401], [308, 410], [381, 231], [282, 244], [362, 259], [348, 269], [359, 283], [366, 296], [352, 306], [367, 322], [350, 335], [350, 350], [356, 366], [479, 378], [350, 396], [357, 407]]\n"
     ]
    },
    {
     "name": "stderr",
     "output_type": "stream",
     "text": [
      "\n"
     ]
    }
   ],
   "source": [
    "pts1 = np.load(\"../data/temple_coords.npz\")\n",
    "pts1 = pts1['pts1']\n",
    "pts2 = epipolar_correspondences(im1, im2, F, pts1)"
   ]
  },
  {
   "cell_type": "code",
   "execution_count": null,
   "metadata": {},
   "outputs": [],
   "source": [
    "# epipolarMatchGUI(im1, im2, F)"
   ]
  },
  {
   "cell_type": "markdown",
   "metadata": {},
   "source": [
    "#### 1.3 - Essential Matrix\n",
    "---\n",
    "In order to get the full camera projection matrices we need to compute the Essential matrix. So far, we have only been using the Fundamental matrix.\n",
    "\n",
    "* Write the following function:"
   ]
  },
  {
   "cell_type": "code",
   "execution_count": 19,
   "metadata": {},
   "outputs": [],
   "source": [
    "def essential_matrix(F, K1, K2):\n",
    "    \"\"\"\n",
    "    Essential Matrix\n",
    "    [I] F, the fundamental matrix (3x3 matrix)\n",
    "        K1, camera matrix 1 (3x3 matrix)\n",
    "        K2, camera matrix 2 (3x3 matrix)\n",
    "    [O] E, the essential matrix (3x3 matrix)\n",
    "    \"\"\"\n",
    "    E = K2.T @ F @ K1\n",
    "    # U, S, V = la.svd(E)\n",
    "    # S = np.diag([1, 1, 0])\n",
    "    # E = U @ S @ V\n",
    "    return E"
   ]
  },
  {
   "cell_type": "markdown",
   "metadata": {},
   "source": [
    "Where `F` is the Fundamental matrix computed between two images, `K1` and `K2` are the intrinsic camera matrices for the first and second image respectively (contained in `data/intrinsics.npz`), and `E` is the computed essential matrix. The intrinsic camera parameters are typically acquired through camera calibration. Refer to the class slides for the\n",
    "relationship between the Fundamental matrix and the Essential matrix.\n",
    "\n",
    "* Please include your estimated $E$ matrix for the temple image pair in the PDF report."
   ]
  },
  {
   "cell_type": "code",
   "execution_count": 20,
   "metadata": {},
   "outputs": [
    {
     "name": "stdout",
     "output_type": "stream",
     "text": [
      "Camera matrix 1: \n",
      "[[1.5204e+03 0.0000e+00 3.0232e+02]\n",
      " [0.0000e+00 1.5259e+03 2.4687e+02]\n",
      " [0.0000e+00 0.0000e+00 1.0000e+00]]\n",
      "Camera matrix 2: \n",
      "[[1.5204e+03 0.0000e+00 3.0232e+02]\n",
      " [0.0000e+00 1.5259e+03 2.4687e+02]\n",
      " [0.0000e+00 0.0000e+00 1.0000e+00]]\n",
      "Essential matrix: \n",
      "[[ 8.23954018e-03 -3.03520601e-01 -1.12915154e-03]\n",
      " [-1.37373313e-01 -3.05238066e-03 -1.67598594e+00]\n",
      " [-4.56779305e-02  1.65535639e+00 -2.87296484e-03]]\n"
     ]
    }
   ],
   "source": [
    "cameras = np.load(\"../data/intrinsics.npz\")\n",
    "K1 = cameras['K1']\n",
    "K2 = cameras['K2']\n",
    "print(f\"Camera matrix 1: \\n{K1}\")\n",
    "print(f\"Camera matrix 2: \\n{K2}\")\n",
    "\n",
    "E = essential_matrix(F, K1, K2)\n",
    "print(f\"Essential matrix: \\n{E}\")"
   ]
  },
  {
   "cell_type": "markdown",
   "metadata": {},
   "source": [
    "#### 1.4 - Triangulation\n",
    "---\n",
    "Write a function to triangulate pairs of 2D points in the images to a set of 3D points.\n",
    "\n",
    "* Write the following functions:"
   ]
  },
  {
   "cell_type": "code",
   "execution_count": null,
   "metadata": {},
   "outputs": [],
   "source": [
    "def choose_M2(M1,M2s, pts1, pts2):\n",
    "    \"\"\"\n",
    "    Choose the appropriate M2 matrix according to the condition presented in the tutorial notebook.\n",
    "    [I] M1, camera projection matrix 1 (3x4 matrix)\n",
    "        M2s, camera projection matrices 2 (3x4x4 tensor)\n",
    "        pts1, points in image 1 (Nx2 matrix)\n",
    "        pts2, points in image 2 (Nx2 matrix)\n",
    "    [O] M2, correct camera projection matrix (3x4 matrix)\n",
    "    \"\"\"\n",
    "    pass"
   ]
  },
  {
   "cell_type": "code",
   "execution_count": null,
   "metadata": {},
   "outputs": [],
   "source": [
    "def apply_camera_on_points(M, pts):\n",
    "    \"\"\"\n",
    "    Apply camera projection matrix on points.\n",
    "    [I] M, camera projection matrix (3x4 matrix)\n",
    "        pts, points (Nx2 matrix)\n",
    "    [O] pts3d, 3D points (Nx3 matrix)\n",
    "    \"\"\"\n",
    "    pass"
   ]
  },
  {
   "cell_type": "code",
   "execution_count": null,
   "metadata": {},
   "outputs": [],
   "source": [
    "def triangulate(M1, pts1, M2, pts2):\n",
    "    \"\"\"\n",
    "    Triangulation\n",
    "    [I] M1, camera projection matrix 1 (3x4 matrix)\n",
    "        pts1, points in image 1 (Nx2 matrix)\n",
    "        M2, camera projection matrix 2 (3x4 matrix)\n",
    "        pts2, points in image 2 (Nx2 matrix)\n",
    "    [O] pts3d, 3D points in space (Nx3 matrix)\n",
    "    \"\"\"\n",
    "    # replace pass by your implementation\n",
    "    pass"
   ]
  },
  {
   "cell_type": "markdown",
   "metadata": {},
   "source": [
    "Where `pts1` and `pts2` are the $N\\times 2$ matrices with the 2D image coordinates, `M1` and `M2` are the $3\\times4$ camera projection matrices and `pts3d` is an $N\\times 3$ matrix with the corresponding 3D points (in all cases, one point per row). Remember that you will need to multiply the given intrinsic matrices with your solution for the extrinsic camera matrices to obtain the final camera projection matrices. \n",
    "\n",
    "* For `M1` you can assume no rotation or translation, so the extrinsic matrix is just $\\left[I \\lvert 0\\right]$. \n",
    "\n",
    "* For `M2`, pass the essential matrix to the provided function `camera2` to get four possible **extrinsic** matrices. You will need to determine which of these is the correct one to use. Refer to the class slides to remind yourself of the 4 possible camera layouts. The correct configuration is the one for which most of the 3D points are in front of both cameras (i.e. have a positive depth), and make up a reasonable recovered shape. To make sure you choose the right one, write a helper function that apply the extrinsics of camera 2 to the recovered 3D points and check that they are still in front of camera 1 (positive $Z$).\n",
    "\n",
    "* Keep in mind to multiply the extrinsics matrices by the corresponding intrinsics before inputting them to `triangulate`.\n",
    "* Once implemented, check the performance by looking at the re-projection error. To compute the re-projection error, project the estimated 3D points back to the image 1 and compute the mean Euclidean error between projected 2D points and the given `pts1`.\n",
    "\n",
    "* **In your write-up**: Describe how you determined which extrinsic matrix is correct. Note that simply rewording the hint is not enough. Report your re-projection error using the given `pts1` and `pts2` in `data/some_corresp.npz`. If implemented correctly, the re-projection error should be less than 2 pixels."
   ]
  },
  {
   "cell_type": "markdown",
   "metadata": {},
   "source": [
    "* Helper functions:"
   ]
  },
  {
   "cell_type": "code",
   "execution_count": 17,
   "metadata": {},
   "outputs": [],
   "source": [
    "# helper function 5: returns the 4 options for camera matrix M2 given the essential matrix\n",
    "def camera2(E):\n",
    "    U,S,V = np.linalg.svd(E)\n",
    "    m = S[:2].mean()\n",
    "    E = U.dot(np.array([[m,0,0], [0,m,0], [0,0,0]])).dot(V)\n",
    "    U,S,V = np.linalg.svd(E)\n",
    "    W = np.array([[0,-1,0], [1,0,0], [0,0,1]])\n",
    "\n",
    "    if np.linalg.det(U.dot(W).dot(V))<0:\n",
    "        W = -W\n",
    "\n",
    "    M2s = np.zeros([3,4,4])\n",
    "    M2s[:,:,0] = np.concatenate([U.dot(W).dot(V), U[:,2].reshape([-1, 1])/abs(U[:,2]).max()], axis=1)\n",
    "    M2s[:,:,1] = np.concatenate([U.dot(W).dot(V), -U[:,2].reshape([-1, 1])/abs(U[:,2]).max()], axis=1)\n",
    "    M2s[:,:,2] = np.concatenate([U.dot(W.T).dot(V), U[:,2].reshape([-1, 1])/abs(U[:,2]).max()], axis=1)\n",
    "    M2s[:,:,3] = np.concatenate([U.dot(W.T).dot(V), -U[:,2].reshape([-1, 1])/abs(U[:,2]).max()], axis=1)\n",
    "\n",
    "    return M2s"
   ]
  },
  {
   "cell_type": "markdown",
   "metadata": {},
   "source": [
    "#### 1.5 - Putting It All Together\n",
    "---\n",
    "You now have all the pieces you need to generate a full 3D reconstruction. Write a test script `test_temple_coords` that does the following:\n",
    "\n",
    "* Load the two images and the point correspondences from `data/some_corresp.npz`.\n",
    "* Run eight point to compute the fundamental matrix `F`.\n",
    "* Load the points in image 1 contained in `data/temple_coords.npz` and run your `epipolar_correspondences` on them to get the corresponding points in image 2.\n",
    "* Load `data/intrinsics.npz` and compute the essential matrix `E`.\n",
    "* Compute the first camera projection matrix `M1` and use `camera2` to compute the four candidates for `M2`.\n",
    "* Run your `triangulate` function using the four sets of camera matrix candidates (after scaling with the intrinsics), the points from `data/temple_coords.npz`, and their computed correspondences.\n",
    "* Figure out the correct `M2` and the corresponding 3D points.\n",
    "* Use matplotlib's scatter function to plot these point correspondences on screen.\n",
    "* Report your computed extrinsic parameters (`R1`,`R2`,`t1`,`t2`) in your PDF.\n",
    "* We will use your test script to run your code, so be sure it runs smoothly. In particular, use relative paths to load files, not absolute paths.\n",
    "* **In your write-up**: Include 3 images of your final reconstruction of the points given in the file `data/temple_coords.npz`, from different angles as shown in Figure 4."
   ]
  },
  {
   "cell_type": "markdown",
   "metadata": {},
   "source": [
    "* Example result:\n",
    "\n",
    "<center> <img src = \"../assets/pointcloud_example.jpg\" style=\"width:75%\">\n",
    "<center> Figure 4 - Sample Reconstructions."
   ]
  },
  {
   "cell_type": "code",
   "execution_count": 21,
   "metadata": {},
   "outputs": [
    {
     "name": "stdout",
     "output_type": "stream",
     "text": [
      "Fundermental matrix: \n",
      "[[ 3.56440672e-09 -1.30829066e-07  3.04775126e-05]\n",
      " [-5.92131870e-08 -1.31095126e-09 -1.08013400e-03]\n",
      " [-1.65029959e-05  1.12471525e-03 -4.16583180e-03]]\n"
     ]
    },
    {
     "name": "stderr",
     "output_type": "stream",
     "text": [
      "100%|██████████| 288/288 [00:28<00:00, 10.07it/s]"
     ]
    },
    {
     "name": "stdout",
     "output_type": "stream",
     "text": [
      "Essential matrix: \n",
      "[[ 8.23954018e-03 -3.03520601e-01 -1.12915154e-03]\n",
      " [-1.37373313e-01 -3.05238066e-03 -1.67598594e+00]\n",
      " [-4.56779305e-02  1.65535639e+00 -2.87296484e-03]]\n"
     ]
    },
    {
     "name": "stderr",
     "output_type": "stream",
     "text": [
      "\n"
     ]
    }
   ],
   "source": [
    "def test_temple_coords():\n",
    "    ### 1 - Load the two temple images and the points\n",
    "    im1 = cv.imread(data_path + 'im1.png')\n",
    "    im2 = cv.imread(data_path + 'im2.png')\n",
    "    data_points = np.load(\"../data/some_corresp.npz\")\n",
    "    p1 = data_points['pts1']\n",
    "    p2 = data_points['pts2']\n",
    "    \n",
    "    ### 2 - Compute the fundamental matrix with 8-point\n",
    "    pmax = max(im1.shape[0], im1.shape[1])\n",
    "    F = eight_point(p1, p2, pmax)\n",
    "    print(f\"Fundermental matrix: \\n{F}\")\n",
    "\n",
    "    ### 3 - Corresponding points\n",
    "    coords = np.load(\"../data/temple_coords.npz\")\n",
    "    pts1 = coords['pts1']\n",
    "    pts2 = epipolar_correspondences(im1, im2, F, pts1)\n",
    "\n",
    "    ### 4 - Compute the essential matrix\n",
    "    cameras = np.load(\"../data/intrinsics.npz\")\n",
    "    K1 = cameras['K1']\n",
    "    K2 = cameras['K2']\n",
    "    E = essential_matrix(F, K1, K2)\n",
    "    print(f\"Essential matrix: \\n{E}\")\n",
    "\n",
    "    ### 5 - Compute M1 and 4 possible M2\n",
    "    M1 = np.concatenate([np.eye(3), np.zeros([3, 1])], axis=1)\n",
    "    M2s = camera2(E)\n",
    "\n",
    "    ### 6 - Triangulate the points\n",
    "\n",
    "    ### 7 - Compute M2\n",
    "\n",
    "    ### 8 - Visualize the points correspondence\n",
    "\n",
    "test_temple_coords()"
   ]
  },
  {
   "cell_type": "markdown",
   "metadata": {},
   "source": [
    "### <img src=\"https://img.icons8.com/external-ddara-lineal-ddara/64/000000/external-yoga-pose-yoga-poses-ddara-lineal-ddara-36.png\" style=\"height:50px;display:inline\"> Part 2 - Pose Estimation  - Bonus\n",
    "---\n",
    "In this section, you will implement what you have learned in class to estimate the intrinsic and extrinsic parameters of camera given 2D points $p$ on image and their corresponding 3D points $P$. In other words, given a set of matched points $\\left\\{P_i ,p_i\\right\\}$ and camera model (in homogeneous coordinates):\n",
    "\n",
    "$$ p = M P$$\n",
    "\n",
    "we want to find the estimate of the camera matrix $M\\in \\mathbb{R}^{3\\times4}$, as well as intrinsic parameter\n",
    "matrix $K\\in \\mathbb{R}^{3\\times3}$, camera rotation $R\\in \\mathbb{R}^{3\\times3}$ and camera translation $t\\in \\mathbb{R}^{3\\times1}$, such that:\n",
    "$$ M = K \\left[R \\lvert t\\right] $$"
   ]
  },
  {
   "cell_type": "markdown",
   "metadata": {},
   "source": [
    "#### 2.1 - Estimating $M$\n",
    "---\n",
    "* Write a function that estimates the camera matrix $M$ given 2D and 3D points $p,P$."
   ]
  },
  {
   "cell_type": "code",
   "execution_count": null,
   "metadata": {},
   "outputs": [],
   "source": [
    "def estimate_pose(p, P):\n",
    "    \"\"\"\n",
    "    Camera Matrix Estimation\n",
    "    [I] p, 2D points (Nx2 matrix)\n",
    "        P, 3D points (Nx3 matrix)\n",
    "    [O] M, camera matrix (3x4 matrix)\n",
    "    \"\"\"\n",
    "    # replace pass by your implementation\n",
    "    pass"
   ]
  },
  {
   "cell_type": "markdown",
   "metadata": {},
   "source": [
    "where `p` is $2\\times N$ matrix denoting the $(x, y)$ coordinates of the $N$ points on the image plane and `P` is $3\\times N$ matrix denoting the $(x,y,z)$ coordinates of the corresponding points in the 3D world. Recall that this camera matrix can be computed using the same strategy as homography estimation by Direct Linear Transform (DLT)."
   ]
  },
  {
   "cell_type": "markdown",
   "metadata": {},
   "source": [
    "* Once you finish this function, you can run the following script to test your implementation:"
   ]
  },
  {
   "cell_type": "code",
   "execution_count": null,
   "metadata": {},
   "outputs": [],
   "source": [
    "# 1. Generate random camera matrix\n",
    "K = np.array([[1,0,100], [0,1,100], [0,0,1]])\n",
    "R, _,_ = la.svd(np.random.randn(3,3))\n",
    "if la.det(R) < 0: R = -R\n",
    "t = np.vstack((np.random.randn(2,1), 1))\n",
    "M = K @ np.hstack((R, t))\n",
    "\n",
    "# 2. Generate random 2D and 3D points\n",
    "N = 100\n",
    "P = np.random.randn(N,3)\n",
    "p = M @ np.hstack((P, np.ones((N,1)))).T\n",
    "p = p[:2,:].T / np.vstack((p[2,:], p[2,:])).T\n",
    "\n",
    "# 3. Test pose estimation with clean points\n",
    "Mc = estimate_pose(p, P)\n",
    "pp = Mc @ np.hstack((P, np.ones((N,1)))).T\n",
    "pp = pp[:2,:].T / np.vstack((pp[2,:], pp[2,:])).T\n",
    "\n",
    "print('Reprojection Error with clean 2D points:', la.norm(p-pp))\n",
    "print('Pose Error with clean 2D points:', la.norm((Mc/Mc[-1,-1])-(M/M[-1,-1])))\n",
    "\n",
    "# 4. Test pose estimation with noisy points\n",
    "p = p + np.random.rand(p.shape[0], p.shape[1])\n",
    "Mn = estimate_pose(p, P)\n",
    "pp = Mn @ np.hstack((P, np.ones((N,1)))).T\n",
    "pp = pp[:2,:].T / np.vstack((pp[2,:], pp[2,:])).T\n",
    "\n",
    "print('Reprojection Error with noisy 2D points:', la.norm(p-pp))\n",
    "print('Pose Error with noisy 2D points:', la.norm((Mn/Mn[-1,-1])-(M/M[-1,-1])))"
   ]
  },
  {
   "cell_type": "markdown",
   "metadata": {},
   "source": [
    "* **In your write-up**: Please include the output of this script in your PDF."
   ]
  },
  {
   "cell_type": "markdown",
   "metadata": {},
   "source": [
    "#### 2.2 - Intrinsic/Extrinsic Parameters\n",
    "---\n",
    "* Write a function that estimates both intrinsic and extrinsic parameters from a camera matrix:"
   ]
  },
  {
   "cell_type": "code",
   "execution_count": null,
   "metadata": {},
   "outputs": [],
   "source": [
    "def estimate_params(M):\n",
    "    \"\"\"\n",
    "    Camera Parameter Estimation\n",
    "    [I] M, camera matrix (3x4 matrix)\n",
    "    [O] K, camera intrinsics (3x3 matrix)\n",
    "        R, camera extrinsics rotation (3x3 matrix)\n",
    "        t, camera extrinsics translation (3x1 matrix)\n",
    "    \"\"\"\n",
    "    # replace pass by your implementation\n",
    "    pass"
   ]
  },
  {
   "cell_type": "markdown",
   "metadata": {},
   "source": [
    "From what we learned on class, the `estimate_params` function should consecutively run the following steps:\n",
    "* Compute the camera center $c$ by using SVD. Hint: $c$ is the eigenvector corresponding to the smallest eigenvalue.\n",
    "* Compute the intrinsic $K$ and rotation $R$ by using QR decomposition. $K$ is a right upper triangle matrix while $R$ is an orthonormal matrix.\n",
    "* Compute the translation by $t = -Rc$."
   ]
  },
  {
   "cell_type": "markdown",
   "metadata": {},
   "source": [
    "* Once you finish this function, you can run the following script to test your implementation:"
   ]
  },
  {
   "cell_type": "code",
   "execution_count": null,
   "metadata": {},
   "outputs": [],
   "source": [
    "# 1. Generate random camera matrix\n",
    "K = np.array([[1,0,100], [0,1,100], [0,0,1]])\n",
    "R, _,_ = la.svd(np.random.randn(3,3))\n",
    "if la.det(R) < 0: R = -R\n",
    "t = np.vstack((np.random.randn(2,1), 1))\n",
    "M = K @ np.hstack((R, t))\n",
    "\n",
    "# 2. Generate random 2D and 3D points\n",
    "N = 100\n",
    "P = np.random.randn(N,3)\n",
    "p = M @ np.hstack((P, np.ones((N,1)))).T\n",
    "p = p[:2,:].T / np.vstack((p[2,:], p[2,:])).T\n",
    "\n",
    "# 3. Test parameter estimation with clean points\n",
    "Mc = estimate_pose(p, P)\n",
    "Kc, Rc, tc = estimate_params(Mc)\n",
    "\n",
    "print('Intrinsic Error with clean 2D points:', la.norm((Kc/Kc[-1,-1])-(K/K[-1,-1])))\n",
    "print('Rotation Error with clean 2D points:', la.norm(R-Rc))\n",
    "print('Translation Error with clean 2D points:', la.norm(t-tc))\n",
    "\n",
    "# 4. Test parameter estimation with noisy points\n",
    "p = p + np.random.rand(p.shape[0], p.shape[1])\n",
    "Mn = estimate_pose(p, P)\n",
    "Kn, Rn, tn = estimate_params(Mn)\n",
    "\n",
    "print('Intrinsic Error with noisy 2D points:', la.norm((Kn/Kn[-1,-1])-(K/K[-1,-1])))\n",
    "print('Rotation Error with noisy 2D points:', la.norm(R-Rn))\n",
    "print('Translation Error with noisy 2D points:', la.norm(t-tn))"
   ]
  },
  {
   "cell_type": "markdown",
   "metadata": {},
   "source": [
    "* **In your write-up**: Please include the output of this script in your PDF."
   ]
  },
  {
   "cell_type": "markdown",
   "metadata": {},
   "source": [
    "#### 2.3 - Projecting CAD Models to 2D (Bonus)\n",
    "---\n",
    "Now you will utilize what you have implemented to estimate the camera matrix from a real image, shown in Figure 5 (left), and project the 3D object (CAD model), shown in Figure 5 (right), back on to the image plane. \n",
    "\n",
    "<center> <img src = \"../assets/airplane_image_CAD.jpg\" style=\"width:75%\">\n",
    "<center> Figure 5 - The provided image and 3D CAD model."
   ]
  },
  {
   "cell_type": "markdown",
   "metadata": {},
   "source": [
    "Write a script that does the following:\n",
    "* Load an image `image`, a CAD model `cad`, 2D points `x` and 3D points `X` from the data file `data/pnp.npz`.\n",
    "* Run `estimate_pose` and `estimate_params` to estimate camera matrix $M$, intrinsic matrix $K$, rotation matrix $R$, and translation $t$.\n",
    "* Use your estimated camera matrix $M$ to project the given 3D points $P$ onto the image.\n",
    "* Plot the given 2D points $p$ and the projected 3D points on screen. An example is shown in Figure 6 (left).\n",
    "* Draw the CAD model rotated by your estimated rotation $R$ on screen. An example is shown in Figure 6 (middle).\n",
    "* Project the CAD's all vertices onto the image and draw the projected CAD model overlapping with the 2D image. An example is shown in Figure 6 (right).\n",
    "* **In your write-up**: Please include the three images similar to Figure 6 in your PDF. You must use different colors from Figure 6. For example, green circle for given 2D points, black points for projected 3D points, blue CAD model, and red projected CAD model overlapping on the image. You will get **NO credit** if you use the same color."
   ]
  },
  {
   "cell_type": "markdown",
   "metadata": {},
   "source": [
    "* Example result:\n",
    "\n",
    "<center> <img src = \"../assets/airplane_projection.jpg\" style=\"width:100%\">\n",
    "<center> Figure 6 - Project a CAD model back onto the image. Left: the image annotated with given 2D points (blue circle) and projected 3D points (red points); Middle: the CAD model rotated by estimated R; Right: the image overlapping with\n",
    "projected CAD model."
   ]
  },
  {
   "cell_type": "markdown",
   "metadata": {},
   "source": [
    "## <img src=\"https://img.icons8.com/dusk/64/000000/prize.png\" style=\"height:50px;display:inline\"> References & Credits\n",
    "* Carnegie Mellon University - CMU\n",
    "* Icons from <a href=\"https://icons8.com/\">Icon8.com</a> - https://icons8.com\n"
   ]
  }
 ],
 "metadata": {
  "kernelspec": {
   "display_name": "deep_learn",
   "language": "python",
   "name": "python3"
  },
  "language_info": {
   "codemirror_mode": {
    "name": "ipython",
    "version": 3
   },
   "file_extension": ".py",
   "mimetype": "text/x-python",
   "name": "python",
   "nbconvert_exporter": "python",
   "pygments_lexer": "ipython3",
   "version": "3.8.18"
  }
 },
 "nbformat": 4,
 "nbformat_minor": 2
}
